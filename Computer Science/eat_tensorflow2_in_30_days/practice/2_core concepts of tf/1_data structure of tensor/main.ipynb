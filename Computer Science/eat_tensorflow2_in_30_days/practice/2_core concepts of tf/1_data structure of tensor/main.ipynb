{
 "metadata": {
  "language_info": {
   "codemirror_mode": {
    "name": "ipython",
    "version": 3
   },
   "file_extension": ".py",
   "mimetype": "text/x-python",
   "name": "python",
   "nbconvert_exporter": "python",
   "pygments_lexer": "ipython3",
   "version": "3.7.9-final"
  },
  "orig_nbformat": 2,
  "kernelspec": {
   "name": "python_defaultSpec_1600139028414",
   "display_name": "Python 3.7.9 64-bit ('TrajDetec': conda)"
  }
 },
 "nbformat": 4,
 "nbformat_minor": 2,
 "cells": [
  {
   "source": [
    "## 一，常量张量"
   ],
   "cell_type": "markdown",
   "metadata": {}
  },
  {
   "cell_type": "code",
   "execution_count": 3,
   "metadata": {
    "tags": []
   },
   "outputs": [],
   "source": [
    "import numpy as np \n",
    "import tensorflow as tf \n",
    "\n",
    "i = tf.constant(1) #tf.int32\n",
    "l = tf.constant(1, dtype=tf.int64) #tf.int64\n",
    "f = tf.constant(1.23) #tf.float32\n",
    "d = tf.constant(3.14, dtype=tf.float64) #tf.double == tf.float64\n",
    "s = tf.constant(\"hello world\") #tf.string\n",
    "b = tf.constant(True) #tf.bool"
   ]
  },
  {
   "cell_type": "code",
   "execution_count": 7,
   "metadata": {
    "tags": []
   },
   "outputs": [
    {
     "output_type": "stream",
     "name": "stdout",
     "text": "int32 True\nint64: True\nfloat32: True\nfloat64: True\ndouble & float: True\nbool: True\nFalse\n"
    }
   ],
   "source": [
    "print(\"int32\", tf.int32 == np.int32)\n",
    "print(\"int64:\", tf.int64 == np.int64)\n",
    "print(\"float32:\", tf.float32 == np.float32)\n",
    "print(\"float64:\", tf.float64 == np.float64)\n",
    "print(\"double & float:\", tf.double == np.float64)\n",
    "print(\"bool:\", tf.bool == np.bool)\n",
    "print(tf.string == np.unicode) # tf.string类型和np.unicode类型不等价"
   ]
  },
  {
   "cell_type": "code",
   "execution_count": 18,
   "metadata": {
    "tags": []
   },
   "outputs": [
    {
     "output_type": "stream",
     "name": "stdout",
     "text": "tf.Tensor(0, shape=(), dtype=int32)\n0\n"
    }
   ],
   "source": [
    "scalar = tf.constant(True)  #标量，0维张量\n",
    "\n",
    "print(tf.rank(scalar))\n",
    "print(np.ndim(scalar))  # tf.rank的作用和numpy的ndim方法相同"
   ]
  },
  {
   "cell_type": "code",
   "execution_count": 19,
   "metadata": {
    "tags": []
   },
   "outputs": [
    {
     "output_type": "stream",
     "name": "stdout",
     "text": "tf.Tensor(1, shape=(), dtype=int32)\n1\n"
    }
   ],
   "source": [
    "vector = tf.constant([1.0,2.0,3.0,4.0]) #向量，1维张量\n",
    "\n",
    "print(tf.rank(vector))\n",
    "print(np.ndim(vector))"
   ]
  },
  {
   "cell_type": "code",
   "execution_count": 20,
   "metadata": {
    "tags": []
   },
   "outputs": [
    {
     "output_type": "stream",
     "name": "stdout",
     "text": "tf.Tensor(2, shape=(), dtype=int32)\n2\n"
    }
   ],
   "source": [
    "matrix = tf.constant([[1.0,2.0],[3.0,4.0]]) #矩阵, 2维张量\n",
    "\n",
    "print(tf.rank(matrix))\n",
    "print(np.ndim(matrix))"
   ]
  },
  {
   "cell_type": "code",
   "execution_count": 21,
   "metadata": {
    "tags": []
   },
   "outputs": [
    {
     "output_type": "stream",
     "name": "stdout",
     "text": "tf.Tensor(3, shape=(), dtype=int32)\n3\n"
    }
   ],
   "source": [
    "tensor3 = tf.constant([[[1.0,2.0],[3.0,4.0]],[[5.0,6.0],[7.0,8.0]]])  # 3维张量\n",
    "print(tf.rank(tensor3))\n",
    "print(np.ndim(tensor3))"
   ]
  },
  {
   "cell_type": "code",
   "execution_count": 22,
   "metadata": {
    "tags": []
   },
   "outputs": [
    {
     "output_type": "stream",
     "name": "stdout",
     "text": "tf.Tensor(4, shape=(), dtype=int32)\n4\n"
    }
   ],
   "source": [
    "tensor4 = tf.constant([[[[1.0,1.0],[2.0,2.0]],[[3.0,3.0],[4.0,4.0]]],\n",
    "                        [[[5.0,5.0],[6.0,6.0]],[[7.0,7.0],[8.0,8.0]]]])  # 4维张量\n",
    "print(tf.rank(tensor4))\n",
    "print(np.ndim(tensor4))"
   ]
  },
  {
   "cell_type": "code",
   "execution_count": 27,
   "metadata": {},
   "outputs": [
    {
     "output_type": "execute_result",
     "data": {
      "text/plain": "(<tf.Tensor: shape=(2,), dtype=int32, numpy=array([123, 456])>,\n <tf.Tensor: shape=(2,), dtype=float32, numpy=array([123., 456.], dtype=float32)>)"
     },
     "metadata": {},
     "execution_count": 27
    }
   ],
   "source": [
    "h = tf.constant([123,456])\n",
    "f = tf.cast(h, tf.float32)\n",
    "h, f"
   ]
  },
  {
   "cell_type": "code",
   "execution_count": 29,
   "metadata": {},
   "outputs": [
    {
     "output_type": "execute_result",
     "data": {
      "text/plain": "array([[1., 2.],\n       [3., 4.]], dtype=float32)"
     },
     "metadata": {},
     "execution_count": 29
    }
   ],
   "source": [
    "y = tf.constant([[1.0, 2.0], [3.0, 4.0]])\n",
    "y.numpy()"
   ]
  },
  {
   "cell_type": "code",
   "execution_count": 30,
   "metadata": {},
   "outputs": [
    {
     "output_type": "execute_result",
     "data": {
      "text/plain": "(b'\\xe4\\xbd\\xa0\\xe5\\xa5\\xbd \\xe4\\xb8\\x96\\xe7\\x95\\x8c', '你好 世界')"
     },
     "metadata": {},
     "execution_count": 30
    }
   ],
   "source": [
    "u = tf.constant(u'你好 世界')\n",
    "u.numpy(), u.numpy().decode('utf-8')"
   ]
  },
  {
   "source": [
    "## 二，变量张量"
   ],
   "cell_type": "markdown",
   "metadata": {}
  },
  {
   "cell_type": "code",
   "execution_count": 32,
   "metadata": {
    "tags": []
   },
   "outputs": [
    {
     "output_type": "stream",
     "name": "stdout",
     "text": "tf.Tensor([1. 2.], shape=(2,), dtype=float32)\n2474345875944\ntf.Tensor([2. 3.], shape=(2,), dtype=float32)\n2475786891512\n"
    }
   ],
   "source": [
    "# 常量值不可以改变，常量的重新赋值相当于创造新的内存空间\n",
    "c = tf.constant([1.0,2.0])\n",
    "print(c)\n",
    "print(id(c))\n",
    "c = c + tf.constant([1.0,1.0])\n",
    "print(c)\n",
    "print(id(c))"
   ]
  },
  {
   "cell_type": "code",
   "execution_count": 34,
   "metadata": {
    "tags": []
   },
   "outputs": [
    {
     "output_type": "stream",
     "name": "stdout",
     "text": "<tf.Variable 'Variable:0' shape=(2,) dtype=float32, numpy=array([1., 2.], dtype=float32)>\n2474350785928\n<tf.Variable 'Variable:0' shape=(2,) dtype=float32, numpy=array([2., 3.], dtype=float32)>\n2474350785928\n"
    }
   ],
   "source": [
    "# 变量的值可以改变，可以通过assign, assign_add等方法给变量重新赋值\n",
    "v = tf.Variable([1.0,2.0])\n",
    "print(v)\n",
    "print(id(v))\n",
    "v.assign_add([1.0,1.0])  # 所有对实例的操作都要用内建的函数完成\n",
    "print(v)\n",
    "print(id(v))"
   ]
  },
  {
   "cell_type": "code",
   "execution_count": null,
   "metadata": {},
   "outputs": [],
   "source": []
  }
 ]
}