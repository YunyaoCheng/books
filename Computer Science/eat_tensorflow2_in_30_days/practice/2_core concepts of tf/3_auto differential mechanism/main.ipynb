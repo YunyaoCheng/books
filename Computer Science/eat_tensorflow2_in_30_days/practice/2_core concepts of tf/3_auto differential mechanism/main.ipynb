{
 "metadata": {
  "language_info": {
   "codemirror_mode": {
    "name": "ipython",
    "version": 3
   },
   "file_extension": ".py",
   "mimetype": "text/x-python",
   "name": "python",
   "nbconvert_exporter": "python",
   "pygments_lexer": "ipython3",
   "version": "3.7.9-final"
  },
  "orig_nbformat": 2,
  "kernelspec": {
   "name": "python_defaultSpec_1600150194713",
   "display_name": "Python 3.7.9 64-bit"
  }
 },
 "nbformat": 4,
 "nbformat_minor": 2,
 "cells": [
  {
   "source": [
    "## 一，利用梯度磁带求导数"
   ],
   "cell_type": "markdown",
   "metadata": {}
  },
  {
   "cell_type": "code",
   "execution_count": 3,
   "metadata": {},
   "outputs": [
    {
     "output_type": "execute_result",
     "data": {
      "text/plain": "<tf.Tensor: shape=(), dtype=float32, numpy=-2.0>"
     },
     "metadata": {},
     "execution_count": 3
    }
   ],
   "source": [
    "import numpy as np \n",
    "import tensorflow as tf \n",
    "\n",
    "x = tf.Variable(0.0)\n",
    "a = tf.constant(1.0)\n",
    "b = tf.constant(-2.0)\n",
    "c = tf.constant(1.0)\n",
    "\n",
    "with tf.GradientTape() as tape:\n",
    "    y = a*tf.pow(x,2) + b*x +c\n",
    "\n",
    "dy_dx = tape.gradient(y, x)\n",
    "dy_dx"
   ]
  },
  {
   "cell_type": "code",
   "execution_count": 5,
   "metadata": {},
   "outputs": [
    {
     "output_type": "execute_result",
     "data": {
      "text/plain": "(<tf.Tensor: shape=(), dtype=float32, numpy=-2.0>,\n <tf.Tensor: shape=(), dtype=float32, numpy=0.0>,\n <tf.Tensor: shape=(), dtype=float32, numpy=0.0>,\n <tf.Tensor: shape=(), dtype=float32, numpy=1.0>)"
     },
     "metadata": {},
     "execution_count": 5
    }
   ],
   "source": [
    "with tf.GradientTape() as tape:\n",
    "    tape.watch([a, b, c])\n",
    "    y = a*tf.pow(x,2) + b*x + c\n",
    "\n",
    "dy_dx, dy_da, dy_db, dy_dc = tape.gradient(y, [x, a, b, c])\n",
    "dy_dx, dy_da, dy_db, dy_dc"
   ]
  },
  {
   "cell_type": "code",
   "execution_count": 6,
   "metadata": {},
   "outputs": [
    {
     "output_type": "execute_result",
     "data": {
      "text/plain": "<tf.Tensor: shape=(), dtype=float32, numpy=2.0>"
     },
     "metadata": {},
     "execution_count": 6
    }
   ],
   "source": [
    "with tf.GradientTape() as tape2:\n",
    "    with tf.GradientTape() as tape1:\n",
    "        y = a*tf.pow(x,2) + b*x + c\n",
    "    dy_dx = tape1.gradient(y, x)\n",
    "dy2_dx2 = tape2.gradient(dy_dx, x)\n",
    "\n",
    "dy2_dx2"
   ]
  },
  {
   "cell_type": "code",
   "execution_count": 11,
   "metadata": {},
   "outputs": [
    {
     "output_type": "execute_result",
     "data": {
      "text/plain": "((<tf.Tensor: shape=(), dtype=float32, numpy=-2.0>,\n  <tf.Tensor: shape=(), dtype=float32, numpy=1.0>),\n (<tf.Tensor: shape=(), dtype=float32, numpy=0.0>,\n  <tf.Tensor: shape=(), dtype=float32, numpy=0.0>))"
     },
     "metadata": {},
     "execution_count": 11
    }
   ],
   "source": [
    "@tf.function\n",
    "def f(x):\n",
    "    a = tf.constant(1.0)\n",
    "    b = tf.constant(-2.0)\n",
    "    c = tf.constant(1.0)\n",
    "\n",
    "    x = tf.cast(x, tf.float32)\n",
    "    with tf.GradientTape() as tape:\n",
    "        tape.watch(x)\n",
    "        y = a*pow(x,2) + b*x + c\n",
    "\n",
    "    dy_dx = tape.gradient(y, x)\n",
    "    return (dy_dx, y)\n",
    "\n",
    "f(tf.constant(0.0)), f(tf.constant(1.0))\n"
   ]
  },
  {
   "source": [
    "## 二，利用梯度磁带和优化器求最小值"
   ],
   "cell_type": "markdown",
   "metadata": {}
  },
  {
   "cell_type": "code",
   "execution_count": 16,
   "metadata": {},
   "outputs": [
    {
     "output_type": "execute_result",
     "data": {
      "text/plain": "(<tf.Tensor: shape=(), dtype=float32, numpy=0.0>,\n <tf.Variable 'Variable:0' shape=() dtype=float32, numpy=0.99999857>)"
     },
     "metadata": {},
     "execution_count": 16
    }
   ],
   "source": [
    "x = tf.Variable(0.0)\n",
    "a = tf.constant(1.0)\n",
    "b = tf.constant(-2.0)\n",
    "c = tf.constant(1.0)\n",
    "\n",
    "optimizer = tf.keras.optimizers.SGD(learning_rate=0.01)\n",
    "for _ in range(1000):\n",
    "    with tf.GradientTape() as tape:\n",
    "        y = a*pow(x, 2) + b*x + c\n",
    "    dy_dx = tape.gradient(y, x)\n",
    "    optimizer.apply_gradients(grads_and_vars=[(dy_dx, x)])\n",
    "\n",
    "y, x"
   ]
  },
  {
   "cell_type": "code",
   "execution_count": 24,
   "metadata": {},
   "outputs": [
    {
     "output_type": "execute_result",
     "data": {
      "text/plain": "(<tf.Variable 'Variable:0' shape=() dtype=float32, numpy=0.99999857>,\n <tf.Tensor: shape=(), dtype=float32, numpy=0.0>)"
     },
     "metadata": {},
     "execution_count": 24
    }
   ],
   "source": [
    "x = tf.Variable(0.0)\n",
    "\n",
    "def f():\n",
    "    a = tf.constant(1.0)\n",
    "    b = tf.constant(-2.0)\n",
    "    c = tf.constant(1.0)\n",
    "    y = a*pow(x, 2) + b*x + c\n",
    "    return y\n",
    "    \n",
    "optimizer = tf.keras.optimizers.SGD(learning_rate = 0.01)\n",
    "for _ in range(1000):\n",
    "    optimizer.minimize(f, [x])\n",
    "\n",
    "x, y"
   ]
  },
  {
   "cell_type": "code",
   "execution_count": 29,
   "metadata": {},
   "outputs": [
    {
     "output_type": "execute_result",
     "data": {
      "text/plain": "(<tf.Tensor: shape=(), dtype=float32, numpy=0.9999985>,\n <tf.Tensor: shape=(), dtype=float32, numpy=0.0>)"
     },
     "metadata": {},
     "execution_count": 29
    }
   ],
   "source": [
    "x = tf.Variable(0.0)\n",
    "optimizer = tf.keras.optimizers.SGD(learning_rate=0.01)\n",
    "\n",
    "@tf.function\n",
    "def minimizef():\n",
    "    a = tf.constant(1.0)\n",
    "    b = tf.constant(-2.0)\n",
    "    c = tf.constant(1.0)\n",
    "    \n",
    "    for _ in range(1000):\n",
    "        with tf.GradientTape() as tape:\n",
    "            tape.watch(x)\n",
    "            y = a*pow(x, 2) + b*x + c\n",
    "        dy_dx = tape.gradient(y, x)\n",
    "        optimizer.apply_gradients(grads_and_vars=[(dy_dx, x)])\n",
    "    \n",
    "    y = a*pow(x, 2) + b*x + c\n",
    "    return x, y\n",
    "\n",
    "minimizef()"
   ]
  },
  {
   "cell_type": "code",
   "execution_count": 30,
   "metadata": {},
   "outputs": [
    {
     "output_type": "execute_result",
     "data": {
      "text/plain": "(<tf.Tensor: shape=(), dtype=float32, numpy=0.9999985>,\n <tf.Tensor: shape=(), dtype=float32, numpy=0.0>)"
     },
     "metadata": {},
     "execution_count": 30
    }
   ],
   "source": [
    "x = tf.Variable(0.0)\n",
    "optimizer = tf.keras.optimizers.SGD(learning_rate=0.01)\n",
    "\n",
    "@tf.function\n",
    "def f():\n",
    "    a = tf.constant(1.0)\n",
    "    b = tf.constant(-2.0)\n",
    "    c = tf.constant(1.0)\n",
    "    y = a*pow(x, 2) + b*x + c\n",
    "    return y\n",
    "\n",
    "@tf.function\n",
    "def train(epochs):\n",
    "    for _ in range(epochs):\n",
    "        optimizer.minimize(f, [x])\n",
    "    return x, y\n",
    "\n",
    "train(1000)"
   ]
  },
  {
   "cell_type": "code",
   "execution_count": null,
   "metadata": {},
   "outputs": [],
   "source": []
  }
 ]
}