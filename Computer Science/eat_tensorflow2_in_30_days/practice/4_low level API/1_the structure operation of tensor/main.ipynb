{
 "metadata": {
  "language_info": {
   "codemirror_mode": {
    "name": "ipython",
    "version": 3
   },
   "file_extension": ".py",
   "mimetype": "text/x-python",
   "name": "python",
   "nbconvert_exporter": "python",
   "pygments_lexer": "ipython3",
   "version": "3.7.9-final"
  },
  "orig_nbformat": 2,
  "kernelspec": {
   "name": "python_defaultSpec_1600224533439",
   "display_name": "Python 3.7.9 64-bit ('TrajDetec': conda)"
  }
 },
 "nbformat": 4,
 "nbformat_minor": 2,
 "cells": [
  {
   "source": [
    "## 一，创建张量"
   ],
   "cell_type": "markdown",
   "metadata": {}
  },
  {
   "cell_type": "code",
   "execution_count": 1,
   "metadata": {},
   "outputs": [],
   "source": [
    "import numpy as np \n",
    "import tensorflow as tf "
   ]
  },
  {
   "cell_type": "code",
   "execution_count": 2,
   "metadata": {},
   "outputs": [
    {
     "output_type": "execute_result",
     "data": {
      "text/plain": "<tf.Tensor: shape=(3,), dtype=int32, numpy=array([1, 2, 3])>"
     },
     "metadata": {},
     "execution_count": 2
    }
   ],
   "source": [
    "a = tf.constant([1, 2, 3])\n",
    "a"
   ]
  },
  {
   "cell_type": "code",
   "execution_count": 4,
   "metadata": {},
   "outputs": [
    {
     "output_type": "execute_result",
     "data": {
      "text/plain": "<tf.Tensor: shape=(5,), dtype=int32, numpy=array([1, 3, 5, 7, 9])>"
     },
     "metadata": {},
     "execution_count": 4
    }
   ],
   "source": [
    "b = tf.range(1, 10, 2)\n",
    "b"
   ]
  },
  {
   "cell_type": "code",
   "execution_count": 5,
   "metadata": {},
   "outputs": [
    {
     "output_type": "execute_result",
     "data": {
      "text/plain": "<tf.Tensor: shape=(100,), dtype=float32, numpy=\narray([0.        , 0.06343435, 0.1268687 , 0.19030304, 0.2537374 ,\n       0.31717175, 0.38060609, 0.44404042, 0.5074748 , 0.57090914,\n       0.6343435 , 0.6977778 , 0.76121217, 0.82464653, 0.88808084,\n       0.9515152 , 1.0149496 , 1.0783839 , 1.1418183 , 1.2052526 ,\n       1.268687  , 1.3321213 , 1.3955556 , 1.45899   , 1.5224243 ,\n       1.5858587 , 1.6492931 , 1.7127274 , 1.7761617 , 1.839596  ,\n       1.9030304 , 1.9664648 , 2.0298991 , 2.0933335 , 2.1567678 ,\n       2.2202022 , 2.2836366 , 2.347071  , 2.4105053 , 2.4739397 ,\n       2.537374  , 2.6008081 , 2.6642425 , 2.7276769 , 2.7911112 ,\n       2.8545456 , 2.91798   , 2.9814143 , 3.0448487 , 3.108283  ,\n       3.1717174 , 3.2351518 , 3.2985861 , 3.3620205 , 3.4254549 ,\n       3.4888892 , 3.5523233 , 3.6157577 , 3.679192  , 3.7426264 ,\n       3.8060608 , 3.8694952 , 3.9329295 , 3.9963639 , 4.0597982 ,\n       4.1232324 , 4.186667  , 4.250101  , 4.3135357 , 4.37697   ,\n       4.4404044 , 4.5038385 , 4.567273  , 4.6307073 , 4.694142  ,\n       4.757576  , 4.8210106 , 4.8844447 , 4.9478793 , 5.0113134 ,\n       5.074748  , 5.138182  , 5.2016163 , 5.265051  , 5.328485  ,\n       5.3919196 , 5.4553537 , 5.5187883 , 5.5822225 , 5.645657  ,\n       5.709091  , 5.772526  , 5.83596   , 5.8993945 , 5.9628286 ,\n       6.026263  , 6.0896974 , 6.1531315 , 6.216566  , 6.28      ],\n      dtype=float32)>"
     },
     "metadata": {},
     "execution_count": 5
    }
   ],
   "source": [
    "c = tf.linspace(0.0, 2*3.14, 100)\n",
    "c"
   ]
  },
  {
   "cell_type": "code",
   "execution_count": 6,
   "metadata": {},
   "outputs": [
    {
     "output_type": "execute_result",
     "data": {
      "text/plain": "<tf.Tensor: shape=(3, 3), dtype=float32, numpy=\narray([[0., 0., 0.],\n       [0., 0., 0.],\n       [0., 0., 0.]], dtype=float32)>"
     },
     "metadata": {},
     "execution_count": 6
    }
   ],
   "source": [
    "d = tf.zeros([3, 3])\n",
    "d"
   ]
  },
  {
   "cell_type": "code",
   "execution_count": 7,
   "metadata": {},
   "outputs": [
    {
     "output_type": "execute_result",
     "data": {
      "text/plain": "(<tf.Tensor: shape=(3, 3), dtype=float32, numpy=\n array([[1., 1., 1.],\n        [1., 1., 1.],\n        [1., 1., 1.]], dtype=float32)>,\n <tf.Tensor: shape=(3, 3), dtype=float32, numpy=\n array([[0., 0., 0.],\n        [0., 0., 0.],\n        [0., 0., 0.]], dtype=float32)>)"
     },
     "metadata": {},
     "execution_count": 7
    }
   ],
   "source": [
    "a = tf.ones([3, 3])\n",
    "b = tf.zeros_like(a)\n",
    "a, b"
   ]
  },
  {
   "cell_type": "code",
   "execution_count": 9,
   "metadata": {},
   "outputs": [
    {
     "output_type": "execute_result",
     "data": {
      "text/plain": "<tf.Tensor: shape=(3, 2), dtype=int32, numpy=\narray([[5, 5],\n       [5, 5],\n       [5, 5]])>"
     },
     "metadata": {},
     "execution_count": 9
    }
   ],
   "source": [
    "b = tf.fill([3, 2], 5)\n",
    "b"
   ]
  },
  {
   "cell_type": "code",
   "execution_count": 12,
   "metadata": {},
   "outputs": [
    {
     "output_type": "execute_result",
     "data": {
      "text/plain": "<tf.Tensor: shape=(5, 2), dtype=float32, numpy=\narray([[1.6513085, 9.014812 ],\n       [6.309742 , 4.345461 ],\n       [2.9193902, 6.4250207],\n       [9.757854 , 4.350995 ],\n       [6.601019 , 6.0489583]], dtype=float32)>"
     },
     "metadata": {},
     "execution_count": 12
    }
   ],
   "source": [
    "tf.random.set_seed(1.0)\n",
    "a = tf.random.uniform([5, 2], minval=0, maxval=10)\n",
    "a"
   ]
  },
  {
   "cell_type": "code",
   "execution_count": 14,
   "metadata": {},
   "outputs": [
    {
     "output_type": "execute_result",
     "data": {
      "text/plain": "<tf.Tensor: shape=(3, 3), dtype=float32, numpy=\narray([[-0.4570122 , -0.40686727,  0.7285778 ],\n       [-0.8929778 ,  0.31261146,  0.9942925 ],\n       [-1.7842623 , -0.52200514,  0.98080045]], dtype=float32)>"
     },
     "metadata": {},
     "execution_count": 14
    }
   ],
   "source": [
    "b = tf.random.normal([3, 3], mean=0.0, stddev=1.0)\n",
    "b"
   ]
  },
  {
   "cell_type": "code",
   "execution_count": 15,
   "metadata": {},
   "outputs": [
    {
     "output_type": "execute_result",
     "data": {
      "text/plain": "<tf.Tensor: shape=(5, 5), dtype=float32, numpy=\narray([[ 1.6940167 ,  0.11969317, -1.15846   ,  0.17260405,  1.2539327 ],\n       [-0.14577776, -0.1679239 ,  0.24254085, -0.7384888 , -0.02195563],\n       [ 0.8474926 ,  0.10189996,  0.62825143,  0.5109858 ,  0.6769444 ],\n       [ 0.45561507, -0.92899007,  0.7786587 ,  0.38300708, -0.38201523],\n       [ 1.6660208 ,  0.9380581 , -0.8005484 ,  1.5743572 ,  1.335031  ]],\n      dtype=float32)>"
     },
     "metadata": {},
     "execution_count": 15
    }
   ],
   "source": [
    "c = tf.random.truncated_normal([5, 5], mean=0.0, stddev=1.0)\n",
    "c"
   ]
  },
  {
   "cell_type": "code",
   "execution_count": 18,
   "metadata": {},
   "outputs": [
    {
     "output_type": "execute_result",
     "data": {
      "text/plain": "(<tf.Tensor: shape=(3, 3), dtype=float32, numpy=\n array([[1., 0., 0.],\n        [0., 1., 0.],\n        [0., 0., 1.]], dtype=float32)>,\n <tf.Tensor: shape=(3, 3), dtype=int32, numpy=\n array([[1, 0, 0],\n        [0, 2, 0],\n        [0, 0, 3]])>)"
     },
     "metadata": {},
     "execution_count": 18
    }
   ],
   "source": [
    "I = tf.eye(3,3)\n",
    "t = tf.linalg.diag([1, 2, 3])\n",
    "I, t"
   ]
  },
  {
   "source": [
    "## 二，索引切片"
   ],
   "cell_type": "markdown",
   "metadata": {}
  },
  {
   "cell_type": "code",
   "execution_count": 22,
   "metadata": {},
   "outputs": [
    {
     "output_type": "execute_result",
     "data": {
      "text/plain": "<tf.Tensor: shape=(5, 5), dtype=int32, numpy=\narray([[4, 7, 4, 2, 9],\n       [9, 1, 2, 4, 7],\n       [7, 2, 7, 4, 0],\n       [9, 6, 9, 7, 2],\n       [3, 7, 0, 0, 3]])>"
     },
     "metadata": {},
     "execution_count": 22
    }
   ],
   "source": [
    "tf.random.set_seed(3)\n",
    "t = tf.random.uniform([5,5], minval=0, maxval=10, dtype=tf.int32)\n",
    "t"
   ]
  },
  {
   "cell_type": "code",
   "execution_count": 23,
   "metadata": {},
   "outputs": [
    {
     "output_type": "execute_result",
     "data": {
      "text/plain": "<tf.Tensor: shape=(5,), dtype=int32, numpy=array([4, 7, 4, 2, 9])>"
     },
     "metadata": {},
     "execution_count": 23
    }
   ],
   "source": [
    "t[0]"
   ]
  },
  {
   "cell_type": "code",
   "execution_count": 24,
   "metadata": {},
   "outputs": [
    {
     "output_type": "execute_result",
     "data": {
      "text/plain": "<tf.Tensor: shape=(5,), dtype=int32, numpy=array([3, 7, 0, 0, 3])>"
     },
     "metadata": {},
     "execution_count": 24
    }
   ],
   "source": [
    "t[-1]"
   ]
  },
  {
   "cell_type": "code",
   "execution_count": 27,
   "metadata": {},
   "outputs": [
    {
     "output_type": "execute_result",
     "data": {
      "text/plain": "(<tf.Tensor: shape=(), dtype=int32, numpy=4>,\n <tf.Tensor: shape=(), dtype=int32, numpy=4>,\n <tf.Tensor: shape=(), dtype=bool, numpy=True>)"
     },
     "metadata": {},
     "execution_count": 27
    }
   ],
   "source": [
    "t[1,3], t[1][3], t[1,3]==t[1][3]"
   ]
  },
  {
   "cell_type": "code",
   "execution_count": 30,
   "metadata": {},
   "outputs": [
    {
     "output_type": "execute_result",
     "data": {
      "text/plain": "(<tf.Tensor: shape=(3, 5), dtype=int32, numpy=\n array([[9, 1, 2, 4, 7],\n        [7, 2, 7, 4, 0],\n        [9, 6, 9, 7, 2]])>,\n <tf.Tensor: shape=(3, 5), dtype=int32, numpy=\n array([[9, 1, 2, 4, 7],\n        [7, 2, 7, 4, 0],\n        [9, 6, 9, 7, 2]])>)"
     },
     "metadata": {},
     "execution_count": 30
    }
   ],
   "source": [
    "t[1:4], tf.slice(t, [1,0], [3,-1])"
   ]
  },
  {
   "cell_type": "code",
   "execution_count": 32,
   "metadata": {},
   "outputs": [
    {
     "output_type": "execute_result",
     "data": {
      "text/plain": "<tf.Tensor: shape=(4, 2), dtype=int32, numpy=\narray([[9, 2],\n       [7, 7],\n       [9, 9],\n       [3, 0]])>"
     },
     "metadata": {},
     "execution_count": 32
    }
   ],
   "source": [
    "t[1:, :4:2]"
   ]
  },
  {
   "cell_type": "code",
   "execution_count": 37,
   "metadata": {},
   "outputs": [
    {
     "output_type": "execute_result",
     "data": {
      "text/plain": "<tf.Variable 'Variable:0' shape=(2, 2) dtype=int32, numpy=\narray([[1, 2],\n       [0, 0]])>"
     },
     "metadata": {},
     "execution_count": 37
    }
   ],
   "source": [
    "x = tf.Variable([[1,2],[3,4]])\n",
    "x[1, :].assign(tf.constant([0, 0]))\n",
    "x"
   ]
  },
  {
   "cell_type": "code",
   "execution_count": 39,
   "metadata": {},
   "outputs": [
    {
     "output_type": "execute_result",
     "data": {
      "text/plain": "<tf.Tensor: shape=(3, 3, 3), dtype=int32, numpy=\narray([[[2, 2, 6],\n        [5, 7, 6],\n        [4, 8, 6]],\n\n       [[4, 6, 3],\n        [8, 1, 7],\n        [3, 1, 3]],\n\n       [[2, 1, 6],\n        [3, 1, 8],\n        [9, 3, 7]]])>"
     },
     "metadata": {},
     "execution_count": 39
    }
   ],
   "source": [
    "a = tf.random.uniform([3, 3, 3], minval=0, maxval=10, dtype=tf.int32)\n",
    "a"
   ]
  },
  {
   "cell_type": "code",
   "execution_count": 47,
   "metadata": {},
   "outputs": [
    {
     "output_type": "execute_result",
     "data": {
      "text/plain": "<tf.Tensor: shape=(3, 3), dtype=int32, numpy=\narray([[2, 5, 4],\n       [4, 8, 3],\n       [2, 3, 9]])>"
     },
     "metadata": {},
     "execution_count": 47
    }
   ],
   "source": [
    "a[...,0]"
   ]
  },
  {
   "cell_type": "code",
   "execution_count": 48,
   "metadata": {},
   "outputs": [
    {
     "output_type": "execute_result",
     "data": {
      "text/plain": "<tf.Tensor: shape=(4, 10, 7), dtype=int32, numpy=\narray([[[ 0, 64, 96, 49, 65, 28, 30],\n        [16, 99, 74, 99, 26,  5, 39],\n        [12, 48,  9, 39, 34, 76, 10],\n        [ 1, 94, 28, 93, 93, 87, 64],\n        [85, 74, 20, 81, 85, 21,  1],\n        [43, 38, 66,  4,  7,  7, 65],\n        [71, 89, 27,  0, 93, 38,  9],\n        [70, 79, 37, 28, 72, 38, 31],\n        [65, 55, 44, 26, 31, 23, 64],\n        [88, 59,  9, 25, 64, 66, 92]],\n\n       [[11, 24,  9, 58, 16, 35, 59],\n        [46, 46, 87, 65, 38, 62, 36],\n        [37, 52, 47, 29,  2, 51, 48],\n        [59, 85, 23, 14, 14,  1, 55],\n        [19, 78, 32, 64, 68, 69, 50],\n        [94,  3, 55, 30,  4, 93, 52],\n        [84, 39, 75, 23, 47, 85, 76],\n        [74, 95,  6, 40, 49,  9, 54],\n        [67, 47, 74, 18, 11, 68,  6],\n        [92, 29, 27, 76, 59, 99, 71]],\n\n       [[78, 37, 24, 59, 54,  9, 79],\n        [77, 99,  5, 92, 97, 53, 84],\n        [25, 26, 89, 20, 74, 22, 75],\n        [97, 30, 10, 25, 24, 78, 85],\n        [58, 58, 96, 59, 51, 33, 64],\n        [95, 17, 83,  0, 99, 84, 96],\n        [40, 28, 73, 43, 55, 83, 92],\n        [94, 67, 77, 83, 97, 56, 38],\n        [61, 44, 50, 97, 72, 87, 44],\n        [48, 67, 96, 84, 60, 23, 82]],\n\n       [[64, 74, 80, 83, 49, 58, 12],\n        [19, 51, 31, 93, 57, 39, 67],\n        [16, 31, 46, 38, 94, 50, 13],\n        [47, 68, 88, 19, 80, 44, 16],\n        [72, 64, 65, 55, 37, 19, 14],\n        [82, 71, 32, 36, 49, 39, 28],\n        [ 8, 43, 24, 71, 87, 79, 10],\n        [20, 81, 89, 83,  4, 85, 66],\n        [90, 19, 14, 44, 99, 27, 96],\n        [35, 63, 52, 84, 34, 59, 64]]])>"
     },
     "metadata": {},
     "execution_count": 48
    }
   ],
   "source": [
    "scores = tf.random.uniform([4, 10, 7], minval=0, maxval=100, dtype=tf.int32)\n",
    "scores"
   ]
  },
  {
   "cell_type": "code",
   "execution_count": 53,
   "metadata": {},
   "outputs": [
    {
     "output_type": "execute_result",
     "data": {
      "text/plain": "<tf.Tensor: shape=(4, 3, 7), dtype=int32, numpy=\narray([[[ 0, 64, 96, 49, 65, 28, 30],\n        [43, 38, 66,  4,  7,  7, 65],\n        [88, 59,  9, 25, 64, 66, 92]],\n\n       [[11, 24,  9, 58, 16, 35, 59],\n        [94,  3, 55, 30,  4, 93, 52],\n        [92, 29, 27, 76, 59, 99, 71]],\n\n       [[78, 37, 24, 59, 54,  9, 79],\n        [95, 17, 83,  0, 99, 84, 96],\n        [48, 67, 96, 84, 60, 23, 82]],\n\n       [[64, 74, 80, 83, 49, 58, 12],\n        [82, 71, 32, 36, 49, 39, 28],\n        [35, 63, 52, 84, 34, 59, 64]]])>"
     },
     "metadata": {},
     "execution_count": 53
    }
   ],
   "source": [
    "p = tf.gather(scores, [0, 5, 9], axis=1)\n",
    "p"
   ]
  },
  {
   "cell_type": "code",
   "execution_count": 55,
   "metadata": {},
   "outputs": [
    {
     "output_type": "execute_result",
     "data": {
      "text/plain": "<tf.Tensor: shape=(4, 3, 3), dtype=int32, numpy=\narray([[[64, 49, 30],\n        [38,  4, 65],\n        [59, 25, 92]],\n\n       [[24, 58, 59],\n        [ 3, 30, 52],\n        [29, 76, 71]],\n\n       [[37, 59, 79],\n        [17,  0, 96],\n        [67, 84, 82]],\n\n       [[74, 83, 12],\n        [71, 36, 28],\n        [63, 84, 64]]])>"
     },
     "metadata": {},
     "execution_count": 55
    }
   ],
   "source": [
    "q = tf.gather(tf.gather(scores, [0, 5, 9], axis=1), [1, 3, 6], axis=2)\n",
    "q"
   ]
  },
  {
   "cell_type": "code",
   "execution_count": 56,
   "metadata": {},
   "outputs": [
    {
     "output_type": "execute_result",
     "data": {
      "text/plain": "<tf.Tensor: shape=(3, 7), dtype=int32, numpy=\narray([[ 0, 64, 96, 49, 65, 28, 30],\n       [58, 58, 96, 59, 51, 33, 64],\n       [ 8, 43, 24, 71, 87, 79, 10]])>"
     },
     "metadata": {},
     "execution_count": 56
    }
   ],
   "source": [
    "s = tf.gather_nd(scores, indices=[[0, 0], [2, 4], [3, 6]])\n",
    "s"
   ]
  },
  {
   "cell_type": "code",
   "execution_count": 57,
   "metadata": {},
   "outputs": [
    {
     "output_type": "execute_result",
     "data": {
      "text/plain": "<tf.Tensor: shape=(4, 3, 7), dtype=int32, numpy=\narray([[[ 0, 64, 96, 49, 65, 28, 30],\n        [43, 38, 66,  4,  7,  7, 65],\n        [88, 59,  9, 25, 64, 66, 92]],\n\n       [[11, 24,  9, 58, 16, 35, 59],\n        [94,  3, 55, 30,  4, 93, 52],\n        [92, 29, 27, 76, 59, 99, 71]],\n\n       [[78, 37, 24, 59, 54,  9, 79],\n        [95, 17, 83,  0, 99, 84, 96],\n        [48, 67, 96, 84, 60, 23, 82]],\n\n       [[64, 74, 80, 83, 49, 58, 12],\n        [82, 71, 32, 36, 49, 39, 28],\n        [35, 63, 52, 84, 34, 59, 64]]])>"
     },
     "metadata": {},
     "execution_count": 57
    }
   ],
   "source": [
    "p = tf.boolean_mask(scores, [1, 0, 0, 0, 0, 1, 0, 0, 0, 1], axis=1)\n",
    "p"
   ]
  },
  {
   "cell_type": "code",
   "execution_count": 65,
   "metadata": {},
   "outputs": [
    {
     "output_type": "execute_result",
     "data": {
      "text/plain": "<tf.Tensor: shape=(3, 7), dtype=int32, numpy=\narray([[ 0, 64, 96, 49, 65, 28, 30],\n       [58, 58, 96, 59, 51, 33, 64],\n       [ 8, 43, 24, 71, 87, 79, 10]])>"
     },
     "metadata": {},
     "execution_count": 65
    }
   ],
   "source": [
    "s = tf.boolean_mask(\n",
    "    scores,\n",
    "    [[True,False,False,False,False,False,False,False,False,False],\n",
    "     [False,False,False,False,False,False,False,False,False,False],\n",
    "     [False,False,False,False,True,False,False,False,False,False],\n",
    "     [False,False,False,False,False,False,True,False,False,False]]\n",
    ")\n",
    "\n",
    "s"
   ]
  },
  {
   "cell_type": "code",
   "execution_count": 62,
   "metadata": {},
   "outputs": [
    {
     "output_type": "execute_result",
     "data": {
      "text/plain": "(<tf.Tensor: shape=(3, 3), dtype=int32, numpy=\n array([[-1,  1, -1],\n        [ 2,  2, -2],\n        [ 3, -3,  3]])>,\n <tf.Tensor: shape=(4,), dtype=int32, numpy=array([2, 2, 3, 3])>,\n <tf.Tensor: shape=(4,), dtype=int32, numpy=array([-1, -1, -2, -3])>)"
     },
     "metadata": {},
     "execution_count": 62
    }
   ],
   "source": [
    "c = tf.constant([[-1,1,-1],[2,2,-2],[3,-3,3]])\n",
    "bool_c = tf.boolean_mask(c, c<0)\n",
    "c, c[c>1], bool_c"
   ]
  },
  {
   "cell_type": "code",
   "execution_count": 78,
   "metadata": {
    "tags": []
   },
   "outputs": [
    {
     "output_type": "execute_result",
     "data": {
      "text/plain": "<tf.Tensor: shape=(3, 3), dtype=float32, numpy=\narray([[nan,  1., nan],\n       [ 2.,  2., nan],\n       [ 3., nan,  3.]], dtype=float32)>"
     },
     "metadata": {},
     "execution_count": 78
    }
   ],
   "source": [
    "c = tf.constant([[-1, 1, -1], [2, 2, -2], [3, -3, 3]], dtype=tf.float32)\n",
    "d = tf.where(c<0, tf.fill(c.shape, np.nan), c)\n",
    "d"
   ]
  },
  {
   "cell_type": "code",
   "execution_count": 83,
   "metadata": {},
   "outputs": [
    {
     "output_type": "execute_result",
     "data": {
      "text/plain": "(<tf.Tensor: shape=(4, 2), dtype=int64, numpy=\n array([[0, 0],\n        [0, 2],\n        [1, 2],\n        [2, 1]], dtype=int64)>,\n <tf.Tensor: shape=(3, 3), dtype=float32, numpy=\n array([[-1.,  0.,  0.],\n        [ 0.,  0.,  0.],\n        [ 0., -3.,  0.]], dtype=float32)>)"
     },
     "metadata": {},
     "execution_count": 83
    }
   ],
   "source": [
    "indices = tf.where(c<0)\n",
    "indices, tf.scatter_nd([[0,0], [2,1]], [c[0,0], c[2,1]], c.shape)"
   ]
  },
  {
   "cell_type": "code",
   "execution_count": 84,
   "metadata": {},
   "outputs": [
    {
     "output_type": "execute_result",
     "data": {
      "text/plain": "(<tf.Tensor: shape=(3, 3), dtype=float32, numpy=\n array([[ 0.,  1., -1.],\n        [ 2.,  2., -2.],\n        [ 3.,  0.,  3.]], dtype=float32)>,\n <tf.Tensor: shape=(4,), dtype=float32, numpy=array([-1., -1., -2., -3.], dtype=float32)>)"
     },
     "metadata": {},
     "execution_count": 84
    }
   ],
   "source": [
    "d = c - tf.scatter_nd([[0,0], [2,1]], [c[0,0], c[2,1]], c.shape)\n",
    "d, tf.gather_nd(c, indices)"
   ]
  },
  {
   "cell_type": "code",
   "execution_count": 85,
   "metadata": {},
   "outputs": [
    {
     "output_type": "execute_result",
     "data": {
      "text/plain": "<tf.Tensor: shape=(3, 3), dtype=float32, numpy=\narray([[-1.,  0., -1.],\n       [ 0.,  0., -2.],\n       [ 0., -3.,  0.]], dtype=float32)>"
     },
     "metadata": {},
     "execution_count": 85
    }
   ],
   "source": [
    "indices = tf.where(c<0)\n",
    "tf.scatter_nd(indices, tf.gather_nd(c, indices), c.shape)"
   ]
  },
  {
   "source": [
    "### 三，维度变换"
   ],
   "cell_type": "markdown",
   "metadata": {}
  },
  {
   "cell_type": "code",
   "execution_count": 86,
   "metadata": {},
   "outputs": [
    {
     "output_type": "execute_result",
     "data": {
      "text/plain": "<tf.Tensor: shape=(1, 3, 3, 2), dtype=int32, numpy=\narray([[[[225, 223],\n         [ 22, 182],\n         [163,   8]],\n\n        [[ 37, 235],\n         [ 36, 107],\n         [ 63, 204]],\n\n        [[ 76, 177],\n         [ 90, 167],\n         [ 69,  96]]]])>"
     },
     "metadata": {},
     "execution_count": 86
    }
   ],
   "source": [
    "a = tf.random.uniform(\n",
    "    shape=[1,3,3,2],\n",
    "    minval=0,\n",
    "    maxval=255,\n",
    "    dtype=tf.int32\n",
    ")\n",
    "\n",
    "a"
   ]
  },
  {
   "cell_type": "code",
   "execution_count": 87,
   "metadata": {},
   "outputs": [
    {
     "output_type": "execute_result",
     "data": {
      "text/plain": "<tf.Tensor: shape=(3, 3, 2), dtype=int32, numpy=\narray([[[225, 223],\n        [ 22, 182],\n        [163,   8]],\n\n       [[ 37, 235],\n        [ 36, 107],\n        [ 63, 204]],\n\n       [[ 76, 177],\n        [ 90, 167],\n        [ 69,  96]]])>"
     },
     "metadata": {},
     "execution_count": 87
    }
   ],
   "source": [
    "s = tf.squeeze(a)\n",
    "s"
   ]
  },
  {
   "cell_type": "code",
   "execution_count": 93,
   "metadata": {},
   "outputs": [
    {
     "output_type": "execute_result",
     "data": {
      "text/plain": "<tf.Tensor: shape=(1, 3, 3, 2), dtype=int32, numpy=\narray([[[[225, 223],\n         [ 22, 182],\n         [163,   8]],\n\n        [[ 37, 235],\n         [ 36, 107],\n         [ 63, 204]],\n\n        [[ 76, 177],\n         [ 90, 167],\n         [ 69,  96]]]])>"
     },
     "metadata": {},
     "execution_count": 93
    }
   ],
   "source": [
    "d = tf.expand_dims(s, axis=0)\n",
    "d"
   ]
  },
  {
   "cell_type": "code",
   "execution_count": 104,
   "metadata": {
    "tags": []
   },
   "outputs": [
    {
     "output_type": "stream",
     "name": "stdout",
     "text": "TensorShape([100, 600, 600, 4])\nTensorShape([4, 600, 600, 100])\n"
    }
   ],
   "source": [
    "# Batch,Height,Width,Channel\n",
    "a = tf.random.uniform(shape=[100,600,600,4],minval=0,maxval=255,dtype=tf.int32)\n",
    "tf.print(a.shape)\n",
    "\n",
    "# 转换成 Channel,Height,Width,Batch\n",
    "s= tf.transpose(a,perm=[3,1,2,0])\n",
    "tf.print(s.shape)"
   ]
  },
  {
   "source": [
    "### 四，合并分割"
   ],
   "cell_type": "markdown",
   "metadata": {}
  },
  {
   "cell_type": "code",
   "execution_count": 116,
   "metadata": {},
   "outputs": [
    {
     "output_type": "execute_result",
     "data": {
      "text/plain": "<tf.Tensor: shape=(6, 2), dtype=float32, numpy=\narray([[ 1.,  2.],\n       [ 3.,  4.],\n       [ 5.,  6.],\n       [ 7.,  8.],\n       [ 9., 10.],\n       [11., 12.]], dtype=float32)>"
     },
     "metadata": {},
     "execution_count": 116
    }
   ],
   "source": [
    "a = tf.constant([[1.0,2.0],[3.0,4.0]])\n",
    "b = tf.constant([[5.0,6.0],[7.0,8.0]])\n",
    "c = tf.constant([[9.0,10.0],[11.0,12.0]])\n",
    "\n",
    "tf.concat([a, b, c], axis=0)"
   ]
  },
  {
   "cell_type": "code",
   "execution_count": 117,
   "metadata": {},
   "outputs": [
    {
     "output_type": "execute_result",
     "data": {
      "text/plain": "<tf.Tensor: shape=(2, 6), dtype=float32, numpy=\narray([[ 1.,  2.,  5.,  6.,  9., 10.],\n       [ 3.,  4.,  7.,  8., 11., 12.]], dtype=float32)>"
     },
     "metadata": {},
     "execution_count": 117
    }
   ],
   "source": [
    "tf.concat([a, b, c], axis=1)"
   ]
  },
  {
   "cell_type": "code",
   "execution_count": 118,
   "metadata": {},
   "outputs": [
    {
     "output_type": "execute_result",
     "data": {
      "text/plain": "<tf.Tensor: shape=(3, 2, 2), dtype=float32, numpy=\narray([[[ 1.,  2.],\n        [ 3.,  4.]],\n\n       [[ 5.,  6.],\n        [ 7.,  8.]],\n\n       [[ 9., 10.],\n        [11., 12.]]], dtype=float32)>"
     },
     "metadata": {},
     "execution_count": 118
    }
   ],
   "source": [
    "tf.stack([a, b, c])"
   ]
  },
  {
   "cell_type": "code",
   "execution_count": 119,
   "metadata": {},
   "outputs": [
    {
     "output_type": "execute_result",
     "data": {
      "text/plain": "<tf.Tensor: shape=(2, 3, 2), dtype=float32, numpy=\narray([[[ 1.,  2.],\n        [ 5.,  6.],\n        [ 9., 10.]],\n\n       [[ 3.,  4.],\n        [ 7.,  8.],\n        [11., 12.]]], dtype=float32)>"
     },
     "metadata": {},
     "execution_count": 119
    }
   ],
   "source": [
    "tf.stack([a, b, c], axis=1)"
   ]
  },
  {
   "cell_type": "code",
   "execution_count": 121,
   "metadata": {},
   "outputs": [
    {
     "output_type": "execute_result",
     "data": {
      "text/plain": "<tf.Tensor: shape=(6, 2), dtype=float32, numpy=\narray([[ 1.,  2.],\n       [ 3.,  4.],\n       [ 5.,  6.],\n       [ 7.,  8.],\n       [ 9., 10.],\n       [11., 12.]], dtype=float32)>"
     },
     "metadata": {},
     "execution_count": 121
    }
   ],
   "source": [
    "a = tf.constant([[1.0,2.0],[3.0,4.0]])\n",
    "b = tf.constant([[5.0,6.0],[7.0,8.0]])\n",
    "c = tf.constant([[9.0,10.0],[11.0,12.0]])\n",
    "\n",
    "c = tf.concat([a,b,c],axis = 0)\n",
    "c"
   ]
  },
  {
   "cell_type": "code",
   "execution_count": 124,
   "metadata": {},
   "outputs": [
    {
     "output_type": "execute_result",
     "data": {
      "text/plain": "[<tf.Tensor: shape=(2, 2), dtype=float32, numpy=\n array([[1., 2.],\n        [3., 4.]], dtype=float32)>,\n <tf.Tensor: shape=(2, 2), dtype=float32, numpy=\n array([[5., 6.],\n        [7., 8.]], dtype=float32)>,\n <tf.Tensor: shape=(2, 2), dtype=float32, numpy=\n array([[ 9., 10.],\n        [11., 12.]], dtype=float32)>]"
     },
     "metadata": {},
     "execution_count": 124
    }
   ],
   "source": [
    "tf.split(c, 3, axis=0)"
   ]
  },
  {
   "cell_type": "code",
   "execution_count": 125,
   "metadata": {},
   "outputs": [
    {
     "output_type": "execute_result",
     "data": {
      "text/plain": "[<tf.Tensor: shape=(2, 2), dtype=float32, numpy=\n array([[1., 2.],\n        [3., 4.]], dtype=float32)>,\n <tf.Tensor: shape=(2, 2), dtype=float32, numpy=\n array([[5., 6.],\n        [7., 8.]], dtype=float32)>,\n <tf.Tensor: shape=(2, 2), dtype=float32, numpy=\n array([[ 9., 10.],\n        [11., 12.]], dtype=float32)>]"
     },
     "metadata": {},
     "execution_count": 125
    }
   ],
   "source": [
    "tf.split(c, [2, 2, 2], axis=0)"
   ]
  },
  {
   "cell_type": "code",
   "execution_count": null,
   "metadata": {},
   "outputs": [],
   "source": []
  }
 ]
}